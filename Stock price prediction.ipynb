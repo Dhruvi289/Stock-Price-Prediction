{
 "cells": [
  {
   "cell_type": "code",
   "execution_count": 13,
   "id": "3470a169",
   "metadata": {},
   "outputs": [],
   "source": [
    "import numpy as np\n",
    "import pandas as pd\n",
    "import matplotlib.pyplot as plt\n",
    "import sklearn\n",
    "from sklearn.preprocessing import MinMaxScaler\n",
    "import seaborn as sns\n",
    "from tensorflow.keras.models import Sequential\n",
    "from tensorflow.keras.layers import LSTM, Dense, Dropout"
   ]
  },
  {
   "cell_type": "code",
   "execution_count": 3,
   "id": "bc7887c1",
   "metadata": {},
   "outputs": [],
   "source": [
    "df = pd.read_csv(\"ML/LSTM/YahooFinance_Stock_2014-2019_train.csv\")"
   ]
  },
  {
   "cell_type": "code",
   "execution_count": 4,
   "id": "db2b83de",
   "metadata": {},
   "outputs": [
    {
     "data": {
      "text/plain": [
       "(1510, 6)"
      ]
     },
     "execution_count": 4,
     "metadata": {},
     "output_type": "execute_result"
    }
   ],
   "source": [
    "df.shape"
   ]
  },
  {
   "cell_type": "code",
   "execution_count": 5,
   "id": "9b7cda57",
   "metadata": {},
   "outputs": [
    {
     "data": {
      "text/html": [
       "<div>\n",
       "<style scoped>\n",
       "    .dataframe tbody tr th:only-of-type {\n",
       "        vertical-align: middle;\n",
       "    }\n",
       "\n",
       "    .dataframe tbody tr th {\n",
       "        vertical-align: top;\n",
       "    }\n",
       "\n",
       "    .dataframe thead th {\n",
       "        text-align: right;\n",
       "    }\n",
       "</style>\n",
       "<table border=\"1\" class=\"dataframe\">\n",
       "  <thead>\n",
       "    <tr style=\"text-align: right;\">\n",
       "      <th></th>\n",
       "      <th>Date</th>\n",
       "      <th>Open</th>\n",
       "      <th>High</th>\n",
       "      <th>Low</th>\n",
       "      <th>Close</th>\n",
       "      <th>Volume</th>\n",
       "    </tr>\n",
       "  </thead>\n",
       "  <tbody>\n",
       "    <tr>\n",
       "      <th>0</th>\n",
       "      <td>2014-01-02</td>\n",
       "      <td>32.46</td>\n",
       "      <td>32.50</td>\n",
       "      <td>32.24</td>\n",
       "      <td>32.29</td>\n",
       "      <td>30632200</td>\n",
       "    </tr>\n",
       "    <tr>\n",
       "      <th>1</th>\n",
       "      <td>2014-01-03</td>\n",
       "      <td>32.33</td>\n",
       "      <td>32.35</td>\n",
       "      <td>31.81</td>\n",
       "      <td>32.08</td>\n",
       "      <td>31134800</td>\n",
       "    </tr>\n",
       "    <tr>\n",
       "      <th>2</th>\n",
       "      <td>2014-01-06</td>\n",
       "      <td>32.02</td>\n",
       "      <td>32.06</td>\n",
       "      <td>31.38</td>\n",
       "      <td>31.40</td>\n",
       "      <td>43603700</td>\n",
       "    </tr>\n",
       "    <tr>\n",
       "      <th>3</th>\n",
       "      <td>2014-01-07</td>\n",
       "      <td>31.57</td>\n",
       "      <td>31.71</td>\n",
       "      <td>31.47</td>\n",
       "      <td>31.64</td>\n",
       "      <td>35802800</td>\n",
       "    </tr>\n",
       "    <tr>\n",
       "      <th>4</th>\n",
       "      <td>2014-01-08</td>\n",
       "      <td>31.29</td>\n",
       "      <td>31.41</td>\n",
       "      <td>30.92</td>\n",
       "      <td>31.08</td>\n",
       "      <td>59971700</td>\n",
       "    </tr>\n",
       "    <tr>\n",
       "      <th>5</th>\n",
       "      <td>2014-01-09</td>\n",
       "      <td>31.18</td>\n",
       "      <td>31.21</td>\n",
       "      <td>30.76</td>\n",
       "      <td>30.88</td>\n",
       "      <td>36516300</td>\n",
       "    </tr>\n",
       "    <tr>\n",
       "      <th>6</th>\n",
       "      <td>2014-01-10</td>\n",
       "      <td>31.20</td>\n",
       "      <td>31.42</td>\n",
       "      <td>31.07</td>\n",
       "      <td>31.32</td>\n",
       "      <td>40548800</td>\n",
       "    </tr>\n",
       "    <tr>\n",
       "      <th>7</th>\n",
       "      <td>2014-01-13</td>\n",
       "      <td>31.28</td>\n",
       "      <td>31.30</td>\n",
       "      <td>30.27</td>\n",
       "      <td>30.40</td>\n",
       "      <td>45901900</td>\n",
       "    </tr>\n",
       "    <tr>\n",
       "      <th>8</th>\n",
       "      <td>2014-01-14</td>\n",
       "      <td>30.18</td>\n",
       "      <td>31.18</td>\n",
       "      <td>30.09</td>\n",
       "      <td>31.09</td>\n",
       "      <td>41623300</td>\n",
       "    </tr>\n",
       "    <tr>\n",
       "      <th>9</th>\n",
       "      <td>2014-01-15</td>\n",
       "      <td>31.20</td>\n",
       "      <td>31.97</td>\n",
       "      <td>31.15</td>\n",
       "      <td>31.95</td>\n",
       "      <td>44812600</td>\n",
       "    </tr>\n",
       "  </tbody>\n",
       "</table>\n",
       "</div>"
      ],
      "text/plain": [
       "         Date   Open   High    Low  Close    Volume\n",
       "0  2014-01-02  32.46  32.50  32.24  32.29  30632200\n",
       "1  2014-01-03  32.33  32.35  31.81  32.08  31134800\n",
       "2  2014-01-06  32.02  32.06  31.38  31.40  43603700\n",
       "3  2014-01-07  31.57  31.71  31.47  31.64  35802800\n",
       "4  2014-01-08  31.29  31.41  30.92  31.08  59971700\n",
       "5  2014-01-09  31.18  31.21  30.76  30.88  36516300\n",
       "6  2014-01-10  31.20  31.42  31.07  31.32  40548800\n",
       "7  2014-01-13  31.28  31.30  30.27  30.40  45901900\n",
       "8  2014-01-14  30.18  31.18  30.09  31.09  41623300\n",
       "9  2014-01-15  31.20  31.97  31.15  31.95  44812600"
      ]
     },
     "execution_count": 5,
     "metadata": {},
     "output_type": "execute_result"
    }
   ],
   "source": [
    "df.head(10)"
   ]
  },
  {
   "cell_type": "code",
   "execution_count": 6,
   "id": "24e7210c",
   "metadata": {},
   "outputs": [],
   "source": [
    "df['Date'] = pd.to_datetime(df.Date, format='%Y-%m-%d')\n",
    "df.index = df['Date']"
   ]
  },
  {
   "cell_type": "code",
   "execution_count": 7,
   "id": "d4a7d7e8",
   "metadata": {},
   "outputs": [
    {
     "data": {
      "text/plain": [
       "[<matplotlib.lines.Line2D at 0x1b8d6a9ee48>]"
      ]
     },
     "execution_count": 7,
     "metadata": {},
     "output_type": "execute_result"
    },
    {
     "data": {
      "image/png": "[encoded data removed]",
      "text/plain": [
       "<Figure size 720x360 with 1 Axes>"
      ]
     },
     "metadata": {
      "needs_background": "light"
     },
     "output_type": "display_data"
    }
   ],
   "source": [
    "plt.figure(figsize=(10,5))\n",
    "plt.plot(df['Close'])"
   ]
  },
  {
   "cell_type": "code",
   "execution_count": 10,
   "id": "3aaea664",
   "metadata": {},
   "outputs": [],
   "source": [
    "data = df.sort_index(ascending=True, axis=0)\n",
    "new_dataset = pd.DataFrame(index=range(0, len(df)), columns=['Date', 'Close'])\n",
    "\n",
    "days = 20\n",
    "\n",
    "for i in range(0, len(data)):\n",
    "    new_dataset['Date'][i] = data['Date'][i]\n",
    "    new_dataset['Close'][i] = data['Close'][i]\n",
    "\n",
    "new_dataset.index = new_dataset.Date\n",
    "new_dataset.drop('Date', axis=1, inplace=True)\n",
    "\n",
    "final_dataset = new_dataset.values\n",
    "\n",
    "train_data = final_dataset[0:987, :]\n",
    "valid_data = final_dataset[987:,:]\n",
    "\n",
    "scaler = MinMaxScaler(feature_range=(0,1))\n",
    "scaled_data = scaler.fit_transform(final_dataset)\n",
    "\n",
    "x_train, y_train = [], []\n",
    "\n",
    "for i in range(days, len(train_data)):\n",
    "    x_train.append(scaled_data[i-days:i, 0])\n",
    "    y_train.append(scaled_data[i, 0])\n",
    "\n",
    "    \n",
    "x_train=np.array(x_train)\n",
    "y_train=np.array(y_train)\n",
    "\n",
    "x_train=np.reshape(x_train,(x_train.shape[0], x_train.shape[1],1))"
   ]
  },
  {
   "cell_type": "code",
   "execution_count": 16,
   "id": "d10d5a67",
   "metadata": {},
   "outputs": [
    {
     "name": "stdout",
     "output_type": "stream",
     "text": [
      "WARNING:tensorflow:From C:\\Users\\DHRUVI\\myenv\\lib\\site-packages\\tensorflow_core\\python\\ops\\resource_variable_ops.py:1630: calling BaseResourceVariable.__init__ (from tensorflow.python.ops.resource_variable_ops) with constraint is deprecated and will be removed in a future version.\n",
      "Instructions for updating:\n",
      "If using Keras pass *_constraint arguments to layers.\n"
     ]
    }
   ],
   "source": [
    "lstm_model = Sequential()\n",
    "lstm_model.add(LSTM(units=50, return_sequences=True, input_shape=(x_train.shape[1],1)))\n",
    "lstm_model.add(Dropout(0.2))\n",
    "lstm_model.add(LSTM(units=50))\n",
    "lstm_model.add(Dropout(0.2))\n",
    "lstm_model.add(Dense(1))"
   ]
  },
  {
   "cell_type": "code",
   "execution_count": 17,
   "id": "4035ed3b",
   "metadata": {},
   "outputs": [],
   "source": [
    "lstm_model.compile(loss=\"mean_squared_error\", optimizer=\"adam\")"
   ]
  },
  {
   "cell_type": "code",
   "execution_count": 19,
   "id": "1c4498df",
   "metadata": {},
   "outputs": [
    {
     "name": "stdout",
     "output_type": "stream",
     "text": [
      "Train on 967 samples\n",
      "Epoch 1/7\n",
      "967/967 - 8s - loss: 0.0075\n",
      "Epoch 2/7\n",
      "967/967 - 1s - loss: 0.0037\n",
      "Epoch 3/7\n",
      "967/967 - 1s - loss: 0.0027\n",
      "Epoch 4/7\n",
      "967/967 - 1s - loss: 0.0037\n",
      "Epoch 5/7\n",
      "967/967 - 1s - loss: 0.0034\n",
      "Epoch 6/7\n",
      "967/967 - 1s - loss: 0.0021\n",
      "Epoch 7/7\n",
      "967/967 - 1s - loss: 0.0014\n"
     ]
    },
    {
     "data": {
      "text/plain": [
       "<tensorflow.python.keras.callbacks.History at 0x1b8d9ccbc50>"
      ]
     },
     "execution_count": 19,
     "metadata": {},
     "output_type": "execute_result"
    }
   ],
   "source": [
    "lstm_model.fit(x_train, y_train, epochs=7, batch_size=32, verbose=2)"
   ]
  },
  {
   "cell_type": "code",
   "execution_count": null,
   "id": "eb28ffde",
   "metadata": {},
   "outputs": [],
   "source": []
  }
 ],
 "metadata": {
  "kernelspec": {
   "display_name": "Python 3",
   "language": "python",
   "name": "python3"
  },
  "language_info": {
   "codemirror_mode": {
    "name": "ipython",
    "version": 3
   },
   "file_extension": ".py",
   "mimetype": "text/x-python",
   "name": "python",
   "nbconvert_exporter": "python",
   "pygments_lexer": "ipython3",
   "version": "3.6.13"
  }
 },
 "nbformat": 4,
 "nbformat_minor": 5
}
